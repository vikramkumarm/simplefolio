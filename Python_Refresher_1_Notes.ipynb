{
  "nbformat": 4,
  "nbformat_minor": 0,
  "metadata": {
    "colab": {
      "provenance": [],
      "collapsed_sections": [
        "HuG1lNIr0Q3A",
        "gkirgARTA1pV"
      ],
      "include_colab_link": true
    },
    "kernelspec": {
      "name": "python3",
      "display_name": "Python 3"
    },
    "language_info": {
      "name": "python"
    }
  },
  "cells": [
    {
      "cell_type": "markdown",
      "metadata": {
        "id": "view-in-github",
        "colab_type": "text"
      },
      "source": [
        "<a href=\"https://colab.research.google.com/github/vikramkumarm/simplefolio/blob/master/Python_Refresher_1_Notes.ipynb\" target=\"_parent\"><img src=\"https://colab.research.google.com/assets/colab-badge.svg\" alt=\"Open In Colab\"/></a>"
      ]
    },
    {
      "cell_type": "markdown",
      "source": [
        "# Python Refresher - 1"
      ],
      "metadata": {
        "id": "uCS5P31NE_mf"
      }
    },
    {
      "cell_type": "markdown",
      "source": [
        "# First Python Program\n",
        "\n",
        "```python\n",
        "print(\"hello world\")\n",
        "```\n",
        "\n",
        "## Data types\n",
        "- Python is a dynamically typed language, don't need to pre-define the data types before-hand like C, C++, etc.\n",
        "- Python has FCCs (First Class Citizens).\n",
        "- Python is an interpreted language.\n",
        "\n",
        "<img src=\"https://d2beiqkhq929f0.cloudfront.net/public_assets/assets/000/016/221/original/Screenshot_2022-10-12_at_10.01.38_AM.png?1665549117\">\n",
        "\n",
        "\n"
      ],
      "metadata": {
        "id": "Oa_atIRapA3D"
      }
    },
    {
      "cell_type": "markdown",
      "source": [
        "## Difference between interpreter and compiler?\n",
        "\n",
        "- Explain the working of both Compilers and Interpreters.\n",
        "  - Compiler: Takes entire code and convert it into byte code and that byte code was executed by CPU\n",
        "  - Interpreter: Read and execute the code line by line\n",
        "\n",
        "<img src=\"https://d2beiqkhq929f0.cloudfront.net/public_assets/assets/000/016/223/original/Screenshot_2022-10-12_at_10.06.15_AM.png?1665549362\">\n",
        "<img src=\"https://d2beiqkhq929f0.cloudfront.net/public_assets/assets/000/016/224/original/Screenshot_2022-10-12_at_10.06.25_AM.png?1665549421\">"
      ],
      "metadata": {
        "id": "8ZIWR5fpezjo"
      }
    },
    {
      "cell_type": "markdown",
      "source": [
        "## Hierarchy of programming languages (Bottom to top):\n",
        "\n",
        "1.   List item\n",
        "2.   List item\n",
        "\n",
        "\n",
        "- Machine code (byte code)\n",
        "- Assembly Code\n",
        "- Mid-level languages (C, C++, Java, etc)\n",
        "- High-level languages (Pytion, JavsScript, etc)\n",
        "\n",
        "<img src=\"https://d2beiqkhq929f0.cloudfront.net/public_assets/assets/000/016/222/original/Screenshot_2022-10-12_at_10.05.08_AM.png?1665549286\">\n",
        "\n",
        "  > As going higher in the heirarchy, writing code gets simpler but time of execution increases, since language gets converted into the other language below that.\n",
        "\n",
        "#### more discussion on data-types (explaining FCCs)\n",
        "- static data types (or primitives) are bound to memory\n",
        "  - eg: 1 byte can store max of integer value of 255\n",
        "- Python creates FCCs that are not bound to memory, they can store data as much as RAM you have."
      ],
      "metadata": {
        "id": "S2D_UlLxeQfW"
      }
    },
    {
      "cell_type": "markdown",
      "source": [
        "## Everything in Python that has a value is an Object\n",
        "- `int`, `float`, `string`, anything with value is an object in python\n",
        "\n",
        "<img src=\"https://d2beiqkhq929f0.cloudfront.net/public_assets/assets/000/016/225/original/Screenshot_2022-10-12_at_10.09.12_AM.png?1665549540\">\n",
        "<img src=\"https://d2beiqkhq929f0.cloudfront.net/public_assets/assets/000/016/226/original/Screenshot_2022-10-12_at_10.09.28_AM.png?1665549558\">"
      ],
      "metadata": {
        "id": "a6_4bD3MyE1-"
      }
    },
    {
      "cell_type": "markdown",
      "source": [
        "Checking the type of variable:\n",
        "> `type` function in python can tell the data type of any variable"
      ],
      "metadata": {
        "id": "nrDpLXeKycHk"
      }
    },
    {
      "cell_type": "code",
      "source": [
        "# `type` function in python can tell the data type of any variable\n",
        "type(\"this is a string\")"
      ],
      "metadata": {
        "colab": {
          "base_uri": "https://localhost:8080/"
        },
        "id": "At7NeBIHhcNX",
        "outputId": "c0e42d45-aac3-49c0-9a54-1bf52f29e6f5"
      },
      "execution_count": null,
      "outputs": [
        {
          "output_type": "execute_result",
          "data": {
            "text/plain": [
              "str"
            ]
          },
          "metadata": {},
          "execution_count": 1
        }
      ]
    },
    {
      "cell_type": "code",
      "source": [
        "type(45)"
      ],
      "metadata": {
        "id": "klncmL_oqQpF",
        "colab": {
          "base_uri": "https://localhost:8080/"
        },
        "outputId": "c5aa7978-9597-44f4-a38f-0f717e3d5236"
      },
      "execution_count": null,
      "outputs": [
        {
          "output_type": "execute_result",
          "data": {
            "text/plain": [
              "int"
            ]
          },
          "metadata": {},
          "execution_count": 2
        }
      ]
    },
    {
      "cell_type": "code",
      "source": [
        "type(\"I am so cool\") # because I am :)"
      ],
      "metadata": {
        "colab": {
          "base_uri": "https://localhost:8080/"
        },
        "id": "C1dHa6JpyuCG",
        "outputId": "a0c93e89-1283-41a9-c7d1-d0eed0d41584"
      },
      "execution_count": null,
      "outputs": [
        {
          "output_type": "execute_result",
          "data": {
            "text/plain": [
              "str"
            ]
          },
          "metadata": {},
          "execution_count": 3
        }
      ]
    },
    {
      "cell_type": "code",
      "source": [
        "type(True)"
      ],
      "metadata": {
        "colab": {
          "base_uri": "https://localhost:8080/"
        },
        "id": "VNyxC9kfyyoj",
        "outputId": "6e374211-9a31-4f0d-e796-6863ab33e542"
      },
      "execution_count": null,
      "outputs": [
        {
          "output_type": "execute_result",
          "data": {
            "text/plain": [
              "bool"
            ]
          },
          "metadata": {},
          "execution_count": 4
        }
      ]
    },
    {
      "cell_type": "markdown",
      "source": [
        "Another function `isinstance(a,b)` can tell whether `a` is the type of `b` or not?"
      ],
      "metadata": {
        "id": "ZmpxbAmozAxs"
      }
    },
    {
      "cell_type": "code",
      "source": [
        "isinstance(4, int)"
      ],
      "metadata": {
        "colab": {
          "base_uri": "https://localhost:8080/"
        },
        "id": "RIvW5-Xky2Eh",
        "outputId": "6424f278-0849-44fd-edc3-9c9dda5b154a"
      },
      "execution_count": null,
      "outputs": [
        {
          "output_type": "execute_result",
          "data": {
            "text/plain": [
              "True"
            ]
          },
          "metadata": {},
          "execution_count": 5
        }
      ]
    },
    {
      "cell_type": "code",
      "source": [
        "isinstance(4, object)"
      ],
      "metadata": {
        "colab": {
          "base_uri": "https://localhost:8080/"
        },
        "id": "7NxCVIYrzMWm",
        "outputId": "1e071b1f-9094-448a-b4fc-ce774b51d6e3"
      },
      "execution_count": null,
      "outputs": [
        {
          "output_type": "execute_result",
          "data": {
            "text/plain": [
              "True"
            ]
          },
          "metadata": {},
          "execution_count": 6
        }
      ]
    },
    {
      "cell_type": "code",
      "source": [
        "isinstance(int, object)"
      ],
      "metadata": {
        "id": "QUvonmaqhcHf",
        "outputId": "ba3d9336-5ae0-4184-fc39-a4febe03a1dc",
        "colab": {
          "base_uri": "https://localhost:8080/"
        }
      },
      "execution_count": null,
      "outputs": [
        {
          "output_type": "execute_result",
          "data": {
            "text/plain": [
              "True"
            ]
          },
          "metadata": {},
          "execution_count": 7
        }
      ]
    },
    {
      "cell_type": "code",
      "source": [
        "isinstance(print, object)"
      ],
      "metadata": {
        "colab": {
          "base_uri": "https://localhost:8080/"
        },
        "id": "k5Boxo4jzeFg",
        "outputId": "22d8c801-eb39-46be-b8d4-f400e1becf62"
      },
      "execution_count": null,
      "outputs": [
        {
          "output_type": "execute_result",
          "data": {
            "text/plain": [
              "True"
            ]
          },
          "metadata": {},
          "execution_count": 8
        }
      ]
    },
    {
      "cell_type": "markdown",
      "source": [
        "We can make sure similarly that everything in python is a type of object.\n",
        "\n",
        "> Python has native support to `complex numbers`"
      ],
      "metadata": {
        "id": "zzAco9puzT0t"
      }
    },
    {
      "cell_type": "code",
      "source": [
        "a = 1 + 2j\n",
        "print(a)"
      ],
      "metadata": {
        "colab": {
          "base_uri": "https://localhost:8080/"
        },
        "id": "pmlRICTazPDc",
        "outputId": "f4776685-1ba0-482a-c729-abb905a6d87c"
      },
      "execution_count": null,
      "outputs": [
        {
          "output_type": "stream",
          "name": "stdout",
          "text": [
            "(1+2j)\n"
          ]
        }
      ]
    },
    {
      "cell_type": "code",
      "source": [
        "type(a)"
      ],
      "metadata": {
        "colab": {
          "base_uri": "https://localhost:8080/"
        },
        "id": "6cJSHiVsz-KL",
        "outputId": "0c37e8e0-7ddf-4e48-c76b-f6667e33d660"
      },
      "execution_count": null,
      "outputs": [
        {
          "output_type": "execute_result",
          "data": {
            "text/plain": [
              "complex"
            ]
          },
          "metadata": {},
          "execution_count": 10
        }
      ]
    },
    {
      "cell_type": "markdown",
      "source": [
        "## Arithmetic Operations"
      ],
      "metadata": {
        "id": "V9BVH8Jw0mwE"
      }
    },
    {
      "cell_type": "code",
      "source": [
        "1.4 + 1.2 + 1.6"
      ],
      "metadata": {
        "colab": {
          "base_uri": "https://localhost:8080/"
        },
        "id": "myZXhJCD0iJQ",
        "outputId": "d32e5d8d-8110-491f-8986-f9d1fa7b29b0"
      },
      "execution_count": null,
      "outputs": [
        {
          "output_type": "execute_result",
          "data": {
            "text/plain": [
              "4.199999999999999"
            ]
          },
          "metadata": {},
          "execution_count": 11
        }
      ]
    },
    {
      "cell_type": "code",
      "source": [
        "# addition\n",
        "45 + 56"
      ],
      "metadata": {
        "colab": {
          "base_uri": "https://localhost:8080/"
        },
        "id": "Ft4yU5G_0fAO",
        "outputId": "c6b9725d-c825-4929-d61b-1849bf8b4d5e"
      },
      "execution_count": null,
      "outputs": [
        {
          "output_type": "execute_result",
          "data": {
            "text/plain": [
              "101"
            ]
          },
          "metadata": {},
          "execution_count": 12
        }
      ]
    },
    {
      "cell_type": "code",
      "source": [
        "# Division\n",
        "10/3"
      ],
      "metadata": {
        "colab": {
          "base_uri": "https://localhost:8080/"
        },
        "id": "akwSo4wS0swl",
        "outputId": "57688413-dfb4-41e2-9785-fdb368f1a51d"
      },
      "execution_count": null,
      "outputs": [
        {
          "output_type": "execute_result",
          "data": {
            "text/plain": [
              "3.3333333333333335"
            ]
          },
          "metadata": {},
          "execution_count": 13
        }
      ]
    },
    {
      "cell_type": "code",
      "source": [
        "# Floor Division operator\n",
        "# biggest integer less than the number\n",
        "10 // 3"
      ],
      "metadata": {
        "colab": {
          "base_uri": "https://localhost:8080/"
        },
        "id": "Rm0LCdd10vOo",
        "outputId": "7e68d742-3c73-435c-c0a3-d8682dbb6df3"
      },
      "execution_count": null,
      "outputs": [
        {
          "output_type": "execute_result",
          "data": {
            "text/plain": [
              "3"
            ]
          },
          "metadata": {},
          "execution_count": 14
        }
      ]
    },
    {
      "cell_type": "code",
      "source": [
        "-8 // 3\n",
        "\n",
        "# always think floor division from the perspective of number line"
      ],
      "metadata": {
        "colab": {
          "base_uri": "https://localhost:8080/"
        },
        "id": "0v_v-O_P01cb",
        "outputId": "2f8d6e44-0a03-4789-c2ad-5e445a7eb828"
      },
      "execution_count": null,
      "outputs": [
        {
          "output_type": "execute_result",
          "data": {
            "text/plain": [
              "-3"
            ]
          },
          "metadata": {},
          "execution_count": 15
        }
      ]
    },
    {
      "cell_type": "code",
      "source": [
        "# exponentiation operator\n",
        "2 ** 10"
      ],
      "metadata": {
        "colab": {
          "base_uri": "https://localhost:8080/"
        },
        "id": "NZYiLljz06wk",
        "outputId": "d2b9ef2b-d174-4151-de06-d165e5acc8c6"
      },
      "execution_count": null,
      "outputs": [
        {
          "output_type": "execute_result",
          "data": {
            "text/plain": [
              "1024"
            ]
          },
          "metadata": {},
          "execution_count": 16
        }
      ]
    },
    {
      "cell_type": "code",
      "source": [
        "## modulus operator (for positive)\n",
        "## a % b  ==> a mod b\n",
        "\n",
        "8 % 3"
      ],
      "metadata": {
        "colab": {
          "base_uri": "https://localhost:8080/"
        },
        "id": "RQ_gDM0C4TcG",
        "outputId": "d6f6f132-8134-43d1-91ed-b6dafe9f564f"
      },
      "execution_count": null,
      "outputs": [
        {
          "output_type": "execute_result",
          "data": {
            "text/plain": [
              "2"
            ]
          },
          "metadata": {},
          "execution_count": 17
        }
      ]
    },
    {
      "cell_type": "code",
      "source": [
        "## modulus operator (for positive)\n",
        "## - a % b ==> b - (a mod b)\n",
        "\n",
        "-8 % 3"
      ],
      "metadata": {
        "colab": {
          "base_uri": "https://localhost:8080/"
        },
        "id": "a17jYIOb4qFd",
        "outputId": "9500787b-2a96-4b7a-d452-78a396e7b019"
      },
      "execution_count": null,
      "outputs": [
        {
          "output_type": "execute_result",
          "data": {
            "text/plain": [
              "1"
            ]
          },
          "metadata": {},
          "execution_count": 18
        }
      ]
    },
    {
      "cell_type": "markdown",
      "source": [
        "## Identifier\n",
        "- name that we give to our variable\n",
        "- ### <u>rules for making identifier</u>:\n",
        "  - It should start with `alphabets` or `underscore`(_)\n",
        "  - It can contain alphanumeric or underscore in the middle of identifier name\n"
      ],
      "metadata": {
        "id": "KhAbzBBG7m2h"
      }
    },
    {
      "cell_type": "code",
      "source": [
        "_abs = 12"
      ],
      "metadata": {
        "id": "kCfcv9mQ4zCx"
      },
      "execution_count": null,
      "outputs": []
    },
    {
      "cell_type": "code",
      "source": [
        "12a = 1 # not following 2nd rule"
      ],
      "metadata": {
        "colab": {
          "base_uri": "https://localhost:8080/",
          "height": 145
        },
        "id": "48Kyp72D8FWW",
        "outputId": "50f7c57a-2e65-45f9-a48e-58e77dc30730"
      },
      "execution_count": null,
      "outputs": [
        {
          "output_type": "error",
          "ename": "SyntaxError",
          "evalue": "ignored",
          "traceback": [
            "\u001b[0;36m  File \u001b[0;32m\"<ipython-input-20-c3a5ede4998c>\"\u001b[0;36m, line \u001b[0;32m1\u001b[0m\n\u001b[0;31m    12a = 1 # not following 2nd rule\u001b[0m\n\u001b[0m     ^\u001b[0m\n\u001b[0;31mSyntaxError\u001b[0m\u001b[0;31m:\u001b[0m invalid decimal literal\n"
          ]
        }
      ]
    },
    {
      "cell_type": "code",
      "source": [
        "# underscore is a valid variable name\n",
        "_ = 45"
      ],
      "metadata": {
        "id": "LjYISFi28GLz"
      },
      "execution_count": null,
      "outputs": []
    },
    {
      "cell_type": "code",
      "source": [
        "_"
      ],
      "metadata": {
        "colab": {
          "base_uri": "https://localhost:8080/"
        },
        "id": "YVxW7yBY8OKg",
        "outputId": "8eaa3f3b-6873-467e-8b71-f3dbed71f17e"
      },
      "execution_count": null,
      "outputs": [
        {
          "output_type": "execute_result",
          "data": {
            "text/plain": [
              "45"
            ]
          },
          "metadata": {},
          "execution_count": 22
        }
      ]
    },
    {
      "cell_type": "markdown",
      "source": [
        "> Note: `_` is a special variable in python that automatically stores the value generated by last executed expression.\n",
        "\n",
        "> `_` will loose it's speciality if you already give some value to it\n",
        "\n",
        "eg: through below code it'll loose it's speciality\n",
        "\n",
        "```python\n",
        "_ = 45\n",
        "```\n",
        "\n",
        "\n",
        "\n"
      ],
      "metadata": {
        "id": "peWMU6AC8mAg"
      }
    },
    {
      "cell_type": "markdown",
      "source": [
        "# Mutable / Immutable\n",
        "\n",
        "Mutable: whose value can change\n",
        "\n",
        "Immutable: whose value can't change\n",
        "\n",
        "<img src=\"https://d2beiqkhq929f0.cloudfront.net/public_assets/assets/000/016/227/original/Screenshot_2022-10-12_at_10.10.40_AM.png?1665549635\">\n",
        "<img src=\"https://d2beiqkhq929f0.cloudfront.net/public_assets/assets/000/016/228/original/Screenshot_2022-10-12_at_10.10.55_AM.png?1665549675\">"
      ],
      "metadata": {
        "id": "DaEp_sSa96J-"
      }
    },
    {
      "cell_type": "code",
      "source": [
        "a = 3\n",
        "a"
      ],
      "metadata": {
        "colab": {
          "base_uri": "https://localhost:8080/"
        },
        "id": "QkOdn3Tw8vrM",
        "outputId": "83f53f73-6355-4a5c-d811-d900f598ecb2"
      },
      "execution_count": null,
      "outputs": [
        {
          "output_type": "execute_result",
          "data": {
            "text/plain": [
              "3"
            ]
          },
          "metadata": {},
          "execution_count": 23
        }
      ]
    },
    {
      "cell_type": "code",
      "source": [
        "a = 4\n",
        "a"
      ],
      "metadata": {
        "colab": {
          "base_uri": "https://localhost:8080/"
        },
        "id": "xU29U7FI-dF_",
        "outputId": "c17a70c7-4117-4527-97a7-d05a1bcb0148"
      },
      "execution_count": null,
      "outputs": [
        {
          "output_type": "execute_result",
          "data": {
            "text/plain": [
              "4"
            ]
          },
          "metadata": {},
          "execution_count": 24
        }
      ]
    },
    {
      "cell_type": "markdown",
      "source": [
        "seems that integers are `mutable` but NO.\n",
        "originally in python we are just changing the memory reference of `a` to point to 4 instead of changing its value to 4\n",
        "\n",
        "Only 3 data types in python are `mutable`\n",
        "- `list`\n",
        "- `sets`\n",
        "- `dictionaries`\n",
        "\n",
        "> `id()` function in python gives the memory address of the variable where it is stored"
      ],
      "metadata": {
        "id": "toZNLFf4-fll"
      }
    },
    {
      "cell_type": "code",
      "source": [
        "id(a)"
      ],
      "metadata": {
        "colab": {
          "base_uri": "https://localhost:8080/"
        },
        "id": "Y_yldEL6-eiS",
        "outputId": "11c7c050-77cf-4fa0-e289-44424f7e1ae6"
      },
      "execution_count": null,
      "outputs": [
        {
          "output_type": "execute_result",
          "data": {
            "text/plain": [
              "134539670962512"
            ]
          },
          "metadata": {},
          "execution_count": 25
        }
      ]
    },
    {
      "cell_type": "code",
      "source": [
        "a = 6"
      ],
      "metadata": {
        "id": "XXon-Ou6_KDd"
      },
      "execution_count": null,
      "outputs": []
    },
    {
      "cell_type": "code",
      "source": [
        "id(a)\n",
        "\n",
        "# it can be seen that memory address is change hence now a is pointing to somewhere else in memory"
      ],
      "metadata": {
        "colab": {
          "base_uri": "https://localhost:8080/"
        },
        "id": "F8AInPP0_Lrp",
        "outputId": "9ffb76f6-ad68-4c73-9cca-fc3ad369d76d"
      },
      "execution_count": null,
      "outputs": [
        {
          "output_type": "execute_result",
          "data": {
            "text/plain": [
              "134539670962576"
            ]
          },
          "metadata": {},
          "execution_count": 27
        }
      ]
    },
    {
      "cell_type": "code",
      "source": [
        "a = 6\n",
        "b = 6"
      ],
      "metadata": {
        "id": "ZH8DoUcE_MJn"
      },
      "execution_count": null,
      "outputs": []
    },
    {
      "cell_type": "code",
      "source": [
        "print(id(a))\n",
        "print(id(b))"
      ],
      "metadata": {
        "colab": {
          "base_uri": "https://localhost:8080/"
        },
        "id": "C-C9dXXP_gef",
        "outputId": "2a1850ce-58ee-48ec-9cf6-e0142adebe40"
      },
      "execution_count": null,
      "outputs": [
        {
          "output_type": "stream",
          "name": "stdout",
          "text": [
            "134539670962576\n",
            "134539670962576\n"
          ]
        }
      ]
    },
    {
      "cell_type": "markdown",
      "source": [
        "Python deleted the variables as program execution is over or that variable's scope is over.\n",
        "\n",
        "But you can delete them manually using `del` keyworad as:\n",
        "\n",
        "```python\n",
        "del a\n",
        "```"
      ],
      "metadata": {
        "id": "zQFuVvvtABnE"
      }
    },
    {
      "cell_type": "markdown",
      "source": [
        "### Python uses indentation instead of `{ }` to create context or scope\n",
        "\n",
        "<img src=\"https://d2beiqkhq929f0.cloudfront.net/public_assets/assets/000/016/229/original/Screenshot_2022-10-12_at_10.13.02_AM.png?1665549764\">"
      ],
      "metadata": {
        "id": "gkirgARTA1pV"
      }
    },
    {
      "cell_type": "code",
      "source": [
        "a = 10\n",
        "\n",
        "if a > 10:\n",
        "  print(\"WOOOPEEEEE\")\n",
        "elif a == 10:\n",
        "  print(\"MOOMMAAAAA\")\n",
        "else:\n",
        "  print(\"DAADDAAAA\")"
      ],
      "metadata": {
        "colab": {
          "base_uri": "https://localhost:8080/"
        },
        "id": "5GQd7XbuAiUI",
        "outputId": "144f4960-eb21-4609-807e-e2904eb7cc88"
      },
      "execution_count": null,
      "outputs": [
        {
          "output_type": "stream",
          "name": "stdout",
          "text": [
            "MOOMMAAAAA\n"
          ]
        }
      ]
    },
    {
      "cell_type": "code",
      "source": [
        "a = 10\n",
        "\n",
        "if a == 10:\n",
        "  print(\"first\")\n",
        "\n",
        "if a > 4:\n",
        "  print(\"second\")\n"
      ],
      "metadata": {
        "colab": {
          "base_uri": "https://localhost:8080/"
        },
        "id": "fnfKJStUBRcP",
        "outputId": "9f110172-122e-4324-de1b-2c9358732b4f"
      },
      "execution_count": null,
      "outputs": [
        {
          "output_type": "stream",
          "name": "stdout",
          "text": [
            "first\n",
            "second\n"
          ]
        }
      ]
    },
    {
      "cell_type": "code",
      "source": [
        "a = 10\n",
        "\n",
        "if a == 10:\n",
        "  print(\"first\")\n",
        "\n",
        "elif a > 4:\n",
        "  print(\"second\")"
      ],
      "metadata": {
        "colab": {
          "base_uri": "https://localhost:8080/"
        },
        "id": "ciZ6dSFgBbsz",
        "outputId": "496c0f91-c660-4ea5-84af-9cc7e32395d8"
      },
      "execution_count": null,
      "outputs": [
        {
          "output_type": "stream",
          "name": "stdout",
          "text": [
            "first\n"
          ]
        }
      ]
    },
    {
      "cell_type": "markdown",
      "source": [
        "# Iteration Protocol\n",
        "\n",
        "- There are certain data types that can be iterated upon."
      ],
      "metadata": {
        "id": "kkZH9WZSbk54"
      }
    },
    {
      "cell_type": "code",
      "source": [
        "# for loop\n",
        "a = \"python\"\n"
      ],
      "metadata": {
        "colab": {
          "base_uri": "https://localhost:8080/"
        },
        "id": "VAmoWE4VXsrI",
        "outputId": "b4e21260-ef4d-42ac-f088-0f45275ba235"
      },
      "execution_count": null,
      "outputs": [
        {
          "output_type": "stream",
          "name": "stdout",
          "text": [
            "p\n",
            "y\n",
            "t\n",
            "h\n",
            "o\n",
            "n\n"
          ]
        }
      ]
    },
    {
      "cell_type": "markdown",
      "source": [
        "- *Iterable*: Data structrure with atomic elements which can be iterated.\n",
        "- *Iterator*: variable used to store those atomic elements.\n",
        "- *Iteration block*: Entire Body of the loop"
      ],
      "metadata": {
        "id": "WOfQrMemcGhu"
      }
    },
    {
      "cell_type": "code",
      "source": [
        "for i in 10: # int is not a iterable\n",
        "  print(i)"
      ],
      "metadata": {
        "colab": {
          "base_uri": "https://localhost:8080/",
          "height": 200
        },
        "id": "4tXsAs5bb-n9",
        "outputId": "e1c5449b-3325-4800-ab4f-57141ca6a3a2"
      },
      "execution_count": null,
      "outputs": [
        {
          "output_type": "error",
          "ename": "TypeError",
          "evalue": "ignored",
          "traceback": [
            "\u001b[0;31m---------------------------------------------------------------------------\u001b[0m",
            "\u001b[0;31mTypeError\u001b[0m                                 Traceback (most recent call last)",
            "\u001b[0;32m<ipython-input-34-367088916604>\u001b[0m in \u001b[0;36m<cell line: 1>\u001b[0;34m()\u001b[0m\n\u001b[0;32m----> 1\u001b[0;31m \u001b[0;32mfor\u001b[0m \u001b[0mi\u001b[0m \u001b[0;32min\u001b[0m \u001b[0;36m10\u001b[0m\u001b[0;34m:\u001b[0m \u001b[0;31m# int is not a iterable\u001b[0m\u001b[0;34m\u001b[0m\u001b[0;34m\u001b[0m\u001b[0m\n\u001b[0m\u001b[1;32m      2\u001b[0m   \u001b[0mprint\u001b[0m\u001b[0;34m(\u001b[0m\u001b[0mi\u001b[0m\u001b[0;34m)\u001b[0m\u001b[0;34m\u001b[0m\u001b[0;34m\u001b[0m\u001b[0m\n",
            "\u001b[0;31mTypeError\u001b[0m: 'int' object is not iterable"
          ]
        }
      ]
    },
    {
      "cell_type": "markdown",
      "source": [
        "- While Loop:"
      ],
      "metadata": {
        "id": "5s3hT5bzdDaX"
      }
    },
    {
      "cell_type": "code",
      "source": [
        "# While Loop\n",
        "a = 10\n",
        "while a > 0:\n",
        "  print(a)\n",
        "  a -= 1 # a = a - 1"
      ],
      "metadata": {
        "colab": {
          "base_uri": "https://localhost:8080/"
        },
        "id": "W6XsRFfWc8ad",
        "outputId": "9141600a-2f06-4be3-8e31-4553e2ebb8a6"
      },
      "execution_count": null,
      "outputs": [
        {
          "output_type": "stream",
          "name": "stdout",
          "text": [
            "10\n",
            "9\n",
            "8\n",
            "7\n",
            "6\n",
            "5\n",
            "4\n",
            "3\n",
            "2\n",
            "1\n"
          ]
        }
      ]
    },
    {
      "cell_type": "markdown",
      "source": [
        "- **Poll**: When to use `while` and `for` loop\n",
        "  - Answer: When you know the exact condition use `while` and when you have a iterable `for` loop\n",
        "\n",
        "> Note: Python does not have `pre-increment`/`post-increment`/`pre-decrement`/`post-decrement` operator"
      ],
      "metadata": {
        "id": "z94cw2jHdf9e"
      }
    },
    {
      "cell_type": "code",
      "source": [
        "# iter() function in python takes iterable and returns the iterator\n",
        "a = \"python\" # iterable\n",
        "it = iter(a) #\n",
        "print(it)"
      ],
      "metadata": {
        "colab": {
          "base_uri": "https://localhost:8080/"
        },
        "id": "RkTc5DVgdPgO",
        "outputId": "67679973-53c1-476c-f1dd-877719f90502"
      },
      "execution_count": null,
      "outputs": [
        {
          "output_type": "stream",
          "name": "stdout",
          "text": [
            "<str_iterator object at 0x7a5cd3c6d030>\n"
          ]
        }
      ]
    },
    {
      "cell_type": "code",
      "source": [
        "# next() function gives the next value of the iterator and keeps record of it everytime\n",
        "next(it)"
      ],
      "metadata": {
        "colab": {
          "base_uri": "https://localhost:8080/",
          "height": 36
        },
        "id": "FgMW9eM2eizb",
        "outputId": "27f08db2-546f-43da-cfa5-74cc3c6804f7"
      },
      "execution_count": null,
      "outputs": [
        {
          "output_type": "execute_result",
          "data": {
            "text/plain": [
              "'p'"
            ],
            "application/vnd.google.colaboratory.intrinsic+json": {
              "type": "string"
            }
          },
          "metadata": {},
          "execution_count": 37
        }
      ]
    },
    {
      "cell_type": "code",
      "source": [
        "next(it)"
      ],
      "metadata": {
        "colab": {
          "base_uri": "https://localhost:8080/",
          "height": 36
        },
        "id": "oz3rs806eyI0",
        "outputId": "dea5dcd6-0c81-4223-c8d3-b3b38d2ee026"
      },
      "execution_count": null,
      "outputs": [
        {
          "output_type": "execute_result",
          "data": {
            "text/plain": [
              "'y'"
            ],
            "application/vnd.google.colaboratory.intrinsic+json": {
              "type": "string"
            }
          },
          "metadata": {},
          "execution_count": 38
        }
      ]
    },
    {
      "cell_type": "code",
      "source": [
        "next(it)"
      ],
      "metadata": {
        "colab": {
          "base_uri": "https://localhost:8080/",
          "height": 36
        },
        "id": "jylpyBJlezE0",
        "outputId": "ff2a7cbe-d942-4f10-f3d8-42f17be4581a"
      },
      "execution_count": null,
      "outputs": [
        {
          "output_type": "execute_result",
          "data": {
            "text/plain": [
              "'t'"
            ],
            "application/vnd.google.colaboratory.intrinsic+json": {
              "type": "string"
            }
          },
          "metadata": {},
          "execution_count": 39
        }
      ]
    },
    {
      "cell_type": "code",
      "source": [
        "next(it)"
      ],
      "metadata": {
        "colab": {
          "base_uri": "https://localhost:8080/",
          "height": 36
        },
        "id": "ch5T9TAaezs0",
        "outputId": "4e66123e-7b9e-464b-a897-7aa071dab352"
      },
      "execution_count": null,
      "outputs": [
        {
          "output_type": "execute_result",
          "data": {
            "text/plain": [
              "'h'"
            ],
            "application/vnd.google.colaboratory.intrinsic+json": {
              "type": "string"
            }
          },
          "metadata": {},
          "execution_count": 40
        }
      ]
    },
    {
      "cell_type": "code",
      "source": [
        "next(it)"
      ],
      "metadata": {
        "colab": {
          "base_uri": "https://localhost:8080/",
          "height": 36
        },
        "id": "QiFziO8wfK6M",
        "outputId": "98383867-0f20-414a-9ae6-a3760bb46504"
      },
      "execution_count": null,
      "outputs": [
        {
          "output_type": "execute_result",
          "data": {
            "text/plain": [
              "'o'"
            ],
            "application/vnd.google.colaboratory.intrinsic+json": {
              "type": "string"
            }
          },
          "metadata": {},
          "execution_count": 41
        }
      ]
    },
    {
      "cell_type": "code",
      "source": [
        "next(it)"
      ],
      "metadata": {
        "colab": {
          "base_uri": "https://localhost:8080/",
          "height": 36
        },
        "id": "j7A3A-HdfLLX",
        "outputId": "bc935e47-6f7a-46ba-9342-4dbe4ea379e3"
      },
      "execution_count": null,
      "outputs": [
        {
          "output_type": "execute_result",
          "data": {
            "text/plain": [
              "'n'"
            ],
            "application/vnd.google.colaboratory.intrinsic+json": {
              "type": "string"
            }
          },
          "metadata": {},
          "execution_count": 42
        }
      ]
    },
    {
      "cell_type": "code",
      "source": [
        "next(it) # that's how similarly for loops end"
      ],
      "metadata": {
        "colab": {
          "base_uri": "https://localhost:8080/",
          "height": 182
        },
        "id": "Ia0SstHgfLYk",
        "outputId": "eca01a47-2006-46fa-8f36-55603f7f36a4"
      },
      "execution_count": null,
      "outputs": [
        {
          "output_type": "error",
          "ename": "StopIteration",
          "evalue": "ignored",
          "traceback": [
            "\u001b[0;31m---------------------------------------------------------------------------\u001b[0m",
            "\u001b[0;31mStopIteration\u001b[0m                             Traceback (most recent call last)",
            "\u001b[0;32m<ipython-input-43-170ba7cf90bb>\u001b[0m in \u001b[0;36m<cell line: 1>\u001b[0;34m()\u001b[0m\n\u001b[0;32m----> 1\u001b[0;31m \u001b[0mnext\u001b[0m\u001b[0;34m(\u001b[0m\u001b[0mit\u001b[0m\u001b[0;34m)\u001b[0m \u001b[0;31m# that's how similarly for loops end\u001b[0m\u001b[0;34m\u001b[0m\u001b[0;34m\u001b[0m\u001b[0m\n\u001b[0m",
            "\u001b[0;31mStopIteration\u001b[0m: "
          ]
        }
      ]
    },
    {
      "cell_type": "code",
      "source": [
        "# passing objects that to iter() are not iterable will give error\n",
        "iter(10)"
      ],
      "metadata": {
        "colab": {
          "base_uri": "https://localhost:8080/",
          "height": 200
        },
        "id": "xIwfka8DfLwv",
        "outputId": "ad436e72-a57f-42f1-c59a-a748e374b6c4"
      },
      "execution_count": null,
      "outputs": [
        {
          "output_type": "error",
          "ename": "TypeError",
          "evalue": "ignored",
          "traceback": [
            "\u001b[0;31m---------------------------------------------------------------------------\u001b[0m",
            "\u001b[0;31mTypeError\u001b[0m                                 Traceback (most recent call last)",
            "\u001b[0;32m<ipython-input-44-60a1e197d025>\u001b[0m in \u001b[0;36m<cell line: 2>\u001b[0;34m()\u001b[0m\n\u001b[1;32m      1\u001b[0m \u001b[0;31m# passing objects that to iter() are not iterable will give error\u001b[0m\u001b[0;34m\u001b[0m\u001b[0;34m\u001b[0m\u001b[0m\n\u001b[0;32m----> 2\u001b[0;31m \u001b[0miter\u001b[0m\u001b[0;34m(\u001b[0m\u001b[0;36m10\u001b[0m\u001b[0;34m)\u001b[0m\u001b[0;34m\u001b[0m\u001b[0;34m\u001b[0m\u001b[0m\n\u001b[0m",
            "\u001b[0;31mTypeError\u001b[0m: 'int' object is not iterable"
          ]
        }
      ]
    },
    {
      "cell_type": "code",
      "source": [
        "\"\"\"\n",
        "- range(a,b,step)\n",
        "\n",
        "=> data structure that gives the iterable from range a to b-1\n",
        "parameters:\n",
        "  a: starting point, default is 0\n",
        "  b: ending point + 1,\n",
        "  step: difference between each consecutive value\n",
        "\"\"\"\n",
        "for i in range(1,11):\n",
        "  print(i)"
      ],
      "metadata": {
        "colab": {
          "base_uri": "https://localhost:8080/"
        },
        "id": "8zHTRWI7flB-",
        "outputId": "39515135-6f4f-46aa-adcd-0ef20b20ce9b"
      },
      "execution_count": null,
      "outputs": [
        {
          "output_type": "stream",
          "name": "stdout",
          "text": [
            "1\n",
            "2\n",
            "3\n",
            "4\n",
            "5\n",
            "6\n",
            "7\n",
            "8\n",
            "9\n",
            "10\n"
          ]
        }
      ]
    },
    {
      "cell_type": "code",
      "source": [
        "a = range(1,6)\n",
        "it = iter(a)\n",
        "it"
      ],
      "metadata": {
        "colab": {
          "base_uri": "https://localhost:8080/"
        },
        "id": "yDJx03YSgOHD",
        "outputId": "f80af33c-f065-4a74-a008-ce50230d7f20"
      },
      "execution_count": null,
      "outputs": [
        {
          "output_type": "execute_result",
          "data": {
            "text/plain": [
              "<range_iterator at 0x7a5cd3c6eb80>"
            ]
          },
          "metadata": {},
          "execution_count": 46
        }
      ]
    },
    {
      "cell_type": "code",
      "source": [
        "next(it)"
      ],
      "metadata": {
        "colab": {
          "base_uri": "https://localhost:8080/"
        },
        "id": "V_paBfwQgSS-",
        "outputId": "34e9f1a4-2fe1-4a6f-f105-76b5cbb13c6b"
      },
      "execution_count": null,
      "outputs": [
        {
          "output_type": "execute_result",
          "data": {
            "text/plain": [
              "1"
            ]
          },
          "metadata": {},
          "execution_count": 47
        }
      ]
    },
    {
      "cell_type": "code",
      "source": [
        "for i in range(1,11,3):\n",
        "  print(i)"
      ],
      "metadata": {
        "colab": {
          "base_uri": "https://localhost:8080/"
        },
        "id": "I55pfRq9gVti",
        "outputId": "c9012935-16ba-40e4-fd99-8cea8c5abc90"
      },
      "execution_count": null,
      "outputs": [
        {
          "output_type": "stream",
          "name": "stdout",
          "text": [
            "1\n",
            "4\n",
            "7\n",
            "10\n"
          ]
        }
      ]
    },
    {
      "cell_type": "code",
      "source": [
        "# Note: Floats are not used with range()\n",
        "range(5.5)"
      ],
      "metadata": {
        "colab": {
          "base_uri": "https://localhost:8080/",
          "height": 200
        },
        "id": "OxarvGmmhMdt",
        "outputId": "d05681dc-0c88-41bf-fb64-74a76dfb71ed"
      },
      "execution_count": null,
      "outputs": [
        {
          "output_type": "error",
          "ename": "TypeError",
          "evalue": "ignored",
          "traceback": [
            "\u001b[0;31m---------------------------------------------------------------------------\u001b[0m",
            "\u001b[0;31mTypeError\u001b[0m                                 Traceback (most recent call last)",
            "\u001b[0;32m<ipython-input-49-d5c772902b37>\u001b[0m in \u001b[0;36m<cell line: 2>\u001b[0;34m()\u001b[0m\n\u001b[1;32m      1\u001b[0m \u001b[0;31m# Note: Floats are not used with range()\u001b[0m\u001b[0;34m\u001b[0m\u001b[0;34m\u001b[0m\u001b[0m\n\u001b[0;32m----> 2\u001b[0;31m \u001b[0mrange\u001b[0m\u001b[0;34m(\u001b[0m\u001b[0;36m5.5\u001b[0m\u001b[0;34m)\u001b[0m\u001b[0;34m\u001b[0m\u001b[0;34m\u001b[0m\u001b[0m\n\u001b[0m",
            "\u001b[0;31mTypeError\u001b[0m: 'float' object cannot be interpreted as an integer"
          ]
        }
      ]
    },
    {
      "cell_type": "markdown",
      "source": [
        "# Functions\n",
        "- Piece of code that can be used multiple times, it takes input and does something on it"
      ],
      "metadata": {
        "id": "1CuyCENLh2kY"
      }
    },
    {
      "cell_type": "code",
      "source": [
        "def sheldon_knock(name):\n",
        "  print(\"knock knock knock\", name)\n",
        "  print(\"knock knock knock\", name)\n",
        "  print(\"knock knock knock\", name)"
      ],
      "metadata": {
        "id": "Bd40egnGhpw4"
      },
      "execution_count": null,
      "outputs": []
    },
    {
      "cell_type": "code",
      "source": [
        "sheldon_knock(\"penny\")"
      ],
      "metadata": {
        "colab": {
          "base_uri": "https://localhost:8080/"
        },
        "id": "KoKQfRqWiHwj",
        "outputId": "dac4a59b-f4c7-4fe5-ea84-7082f28e84e5"
      },
      "execution_count": null,
      "outputs": [
        {
          "output_type": "stream",
          "name": "stdout",
          "text": [
            "knock knock knock penny\n",
            "knock knock knock penny\n",
            "knock knock knock penny\n"
          ]
        }
      ]
    },
    {
      "cell_type": "code",
      "source": [
        "sheldon_knock(\"leonard\")"
      ],
      "metadata": {
        "colab": {
          "base_uri": "https://localhost:8080/"
        },
        "id": "9iNMdkvkiJ5V",
        "outputId": "083c47af-05d3-45d1-e787-ad1048dd5a0f"
      },
      "execution_count": null,
      "outputs": [
        {
          "output_type": "stream",
          "name": "stdout",
          "text": [
            "knock knock knock leonard\n",
            "knock knock knock leonard\n",
            "knock knock knock leonard\n"
          ]
        }
      ]
    },
    {
      "cell_type": "code",
      "source": [
        "def random(a,b):\n",
        "  print(\"a = \", a)\n",
        "  print(\"b = \", b)"
      ],
      "metadata": {
        "id": "7XTIduVCiNmg"
      },
      "execution_count": null,
      "outputs": []
    },
    {
      "cell_type": "code",
      "source": [
        "random(4,5)"
      ],
      "metadata": {
        "colab": {
          "base_uri": "https://localhost:8080/"
        },
        "id": "z0BSYswfiowX",
        "outputId": "fa070d18-1e71-4d2d-8ee0-285490a08bbb"
      },
      "execution_count": null,
      "outputs": [
        {
          "output_type": "stream",
          "name": "stdout",
          "text": [
            "a =  4\n",
            "b =  5\n"
          ]
        }
      ]
    },
    {
      "cell_type": "code",
      "source": [
        "random(a=4, b=5) # keyworded arguments"
      ],
      "metadata": {
        "colab": {
          "base_uri": "https://localhost:8080/"
        },
        "id": "NhzyhnbgipgJ",
        "outputId": "c40d2a81-4c2f-4c6c-ff91-63924d6dc97c"
      },
      "execution_count": null,
      "outputs": [
        {
          "output_type": "stream",
          "name": "stdout",
          "text": [
            "a =  4\n",
            "b =  5\n"
          ]
        }
      ]
    },
    {
      "cell_type": "markdown",
      "source": [
        "### Types of Arguments:\n",
        "- Positional: value reaching argument positionally\n",
        "  ```python\n",
        "  def x(a,b):\n",
        "    pass\n",
        "\n",
        "  x(3,4)\n",
        "  ```\n",
        "- Keywords: values passing according to keys\n",
        "  ```python\n",
        "  def x(a,b):\n",
        "    pass\n",
        "  x(a=3, b=4)\n",
        "  ```"
      ],
      "metadata": {
        "id": "CjnJxL4Aiur0"
      }
    },
    {
      "cell_type": "code",
      "source": [
        "# If all the arguments are required (i.e no default value) then need to pass all of them\n",
        "def random(a,b):\n",
        "  print(a+b)\n",
        "\n",
        "random(10)"
      ],
      "metadata": {
        "colab": {
          "base_uri": "https://localhost:8080/",
          "height": 219
        },
        "id": "Exb36UNxitir",
        "outputId": "a4923dea-f53f-4296-f466-bfa4a6bf743b"
      },
      "execution_count": null,
      "outputs": [
        {
          "output_type": "error",
          "ename": "TypeError",
          "evalue": "ignored",
          "traceback": [
            "\u001b[0;31m---------------------------------------------------------------------------\u001b[0m",
            "\u001b[0;31mTypeError\u001b[0m                                 Traceback (most recent call last)",
            "\u001b[0;32m<ipython-input-56-015a48b6c767>\u001b[0m in \u001b[0;36m<cell line: 5>\u001b[0;34m()\u001b[0m\n\u001b[1;32m      3\u001b[0m   \u001b[0mprint\u001b[0m\u001b[0;34m(\u001b[0m\u001b[0ma\u001b[0m\u001b[0;34m+\u001b[0m\u001b[0mb\u001b[0m\u001b[0;34m)\u001b[0m\u001b[0;34m\u001b[0m\u001b[0;34m\u001b[0m\u001b[0m\n\u001b[1;32m      4\u001b[0m \u001b[0;34m\u001b[0m\u001b[0m\n\u001b[0;32m----> 5\u001b[0;31m \u001b[0mrandom\u001b[0m\u001b[0;34m(\u001b[0m\u001b[0;36m10\u001b[0m\u001b[0;34m)\u001b[0m\u001b[0;34m\u001b[0m\u001b[0;34m\u001b[0m\u001b[0m\n\u001b[0m",
            "\u001b[0;31mTypeError\u001b[0m: random() missing 1 required positional argument: 'b'"
          ]
        }
      ]
    },
    {
      "cell_type": "code",
      "source": [
        "# giving default value to `b`\n",
        "def random(a,b=4):\n",
        "  print(a+b)\n",
        "\n",
        "random(10) # don't pass value then default is used\n",
        "random(10,10) # if passed then passed value is used"
      ],
      "metadata": {
        "colab": {
          "base_uri": "https://localhost:8080/"
        },
        "id": "5Xn-poPSje68",
        "outputId": "f71a50db-582d-4d2d-f1ba-d5e47511d33b"
      },
      "execution_count": null,
      "outputs": [
        {
          "output_type": "stream",
          "name": "stdout",
          "text": [
            "14\n",
            "20\n"
          ]
        }
      ]
    },
    {
      "cell_type": "markdown",
      "source": [
        "> Note: if have a default argument in function then all the arguments after that must contain some default value"
      ],
      "metadata": {
        "id": "Z5nCEN4Vj7Er"
      }
    },
    {
      "cell_type": "markdown",
      "source": [
        "### Returning values from function"
      ],
      "metadata": {
        "id": "7rRHO0ojlC8d"
      }
    },
    {
      "cell_type": "code",
      "source": [
        "def addition(a, b):\n",
        "  return a + b"
      ],
      "metadata": {
        "id": "_w3tLayDjh0A"
      },
      "execution_count": null,
      "outputs": []
    },
    {
      "cell_type": "code",
      "source": [
        "addition(3,4)"
      ],
      "metadata": {
        "colab": {
          "base_uri": "https://localhost:8080/"
        },
        "id": "zY16ymjTlHo-",
        "outputId": "86f24046-0d2e-4d75-b32c-3d54da44ccb6"
      },
      "execution_count": null,
      "outputs": [
        {
          "output_type": "execute_result",
          "data": {
            "text/plain": [
              "7"
            ]
          },
          "metadata": {},
          "execution_count": 59
        }
      ]
    },
    {
      "cell_type": "code",
      "source": [
        "# difference between print and return\n",
        "def addition(a, b):\n",
        "  print(a+b)\n",
        "\n",
        "ans = addition(3,4)\n",
        "print(ans)"
      ],
      "metadata": {
        "colab": {
          "base_uri": "https://localhost:8080/"
        },
        "id": "QWuJtwJNlI4e",
        "outputId": "79c4d279-4508-48d3-85a5-f178d50d205f"
      },
      "execution_count": null,
      "outputs": [
        {
          "output_type": "stream",
          "name": "stdout",
          "text": [
            "7\n",
            "None\n"
          ]
        }
      ]
    }
  ]
}