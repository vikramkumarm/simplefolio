{
  "nbformat": 4,
  "nbformat_minor": 0,
  "metadata": {
    "colab": {
      "provenance": [],
      "include_colab_link": true
    },
    "kernelspec": {
      "name": "python3",
      "display_name": "Python 3"
    },
    "language_info": {
      "name": "python"
    }
  },
  "cells": [
    {
      "cell_type": "markdown",
      "metadata": {
        "id": "view-in-github",
        "colab_type": "text"
      },
      "source": [
        "<a href=\"https://colab.research.google.com/github/vikramkumarm/simplefolio/blob/master/OOPS_2_Dunders%2C_Inheritence_Notes.ipynb\" target=\"_parent\"><img src=\"https://colab.research.google.com/assets/colab-badge.svg\" alt=\"Open In Colab\"/></a>"
      ]
    },
    {
      "cell_type": "markdown",
      "source": [
        "#  OOPS - 2"
      ],
      "metadata": {
        "id": "nAyHxMfAoIuq"
      }
    },
    {
      "cell_type": "markdown",
      "source": [
        "# Using Dunder / Magic methods\n",
        "- such magic methods in class can be modified/overload to change the default behavious of that object"
      ],
      "metadata": {
        "id": "jkxtuSAxqRmp"
      }
    },
    {
      "cell_type": "code",
      "source": [
        "class A:\n",
        "    def __init__(self, a, b):\n",
        "        self.a = a\n",
        "        self.b = b"
      ],
      "metadata": {
        "id": "TAgUnyyuqDMR"
      },
      "execution_count": null,
      "outputs": []
    },
    {
      "cell_type": "code",
      "source": [
        "class Car:\n",
        "    def __init__(self, name, milaege):\n",
        "        self.name = name\n",
        "        self.milaege = milaege"
      ],
      "metadata": {
        "id": "x10f32P2qE2f"
      },
      "execution_count": null,
      "outputs": []
    },
    {
      "cell_type": "code",
      "source": [
        "c1 = Car(\"Nexon\", 12)\n",
        "c2 = Car(\"Altroz\", 15)"
      ],
      "metadata": {
        "id": "gLZe0VyZqGWl"
      },
      "execution_count": null,
      "outputs": []
    },
    {
      "cell_type": "code",
      "source": [
        "print(c1)\n",
        "# Name -> Milaege"
      ],
      "metadata": {
        "colab": {
          "base_uri": "https://localhost:8080/"
        },
        "id": "Z38V75MAqH5z",
        "outputId": "f20c9adf-c4dd-4588-e4bb-943b74aa1f62"
      },
      "execution_count": null,
      "outputs": [
        {
          "output_type": "stream",
          "name": "stdout",
          "text": [
            "<__main__.Car object at 0x793c25a81120>\n"
          ]
        }
      ]
    },
    {
      "cell_type": "markdown",
      "source": [
        "> whenever call `print()` function over some object then there should always be a pre-defined message linked to that object that get printed. Hence printing is a behaviour in python\n",
        "\n",
        "> With magic methods we can modify that behaviour."
      ],
      "metadata": {
        "id": "E1rbibxjqU-R"
      }
    },
    {
      "cell_type": "code",
      "source": [
        "class Car:\n",
        "    def __init__(self, name, milaege):\n",
        "        self.name = name\n",
        "        self.milaege = milaege\n",
        "\n",
        "    # whenever an object is printed, __str__() function is called\n",
        "    def __str__(self):\n",
        "        return f\"{self.name} -> {self.milaege}\"\n",
        "\n",
        "    # to enable the use of addition operator\n",
        "    def __add__(self, other):\n",
        "        return self.milaege + other.milaege\n",
        "\n",
        "    # less than operator\n",
        "    def __lt__(self, other):\n",
        "        return self.milaege < other.milaege\n",
        "\n",
        "    def __call__(self):\n",
        "        print(\"I WAS CALLED\")"
      ],
      "metadata": {
        "id": "23LIBB8SqKFI"
      },
      "execution_count": null,
      "outputs": []
    },
    {
      "cell_type": "code",
      "source": [
        "c1 = Car(\"Nexon\", 12)\n",
        "c2 = Car(\"Altroz\", 15)"
      ],
      "metadata": {
        "id": "93zSBcBlqNSF"
      },
      "execution_count": null,
      "outputs": []
    },
    {
      "cell_type": "code",
      "source": [
        "print(c1)"
      ],
      "metadata": {
        "colab": {
          "base_uri": "https://localhost:8080/"
        },
        "id": "tD-GZutPqPH0",
        "outputId": "27638195-d6fe-48ed-8333-b8d164984321"
      },
      "execution_count": null,
      "outputs": [
        {
          "output_type": "stream",
          "name": "stdout",
          "text": [
            "Nexon -> 12\n"
          ]
        }
      ]
    },
    {
      "cell_type": "code",
      "source": [
        "c1 + c2\n",
        "# Car.__add__(c1, c2)"
      ],
      "metadata": {
        "colab": {
          "base_uri": "https://localhost:8080/"
        },
        "id": "PrMRWkT_q0DH",
        "outputId": "d6a48651-78f6-4810-c799-fdaaab7ac6df"
      },
      "execution_count": null,
      "outputs": [
        {
          "output_type": "execute_result",
          "data": {
            "text/plain": [
              "27"
            ]
          },
          "metadata": {},
          "execution_count": 8
        }
      ]
    },
    {
      "cell_type": "code",
      "source": [],
      "metadata": {
        "id": "l2Pp0_tdVyJt"
      },
      "execution_count": null,
      "outputs": []
    },
    {
      "cell_type": "code",
      "source": [
        "c1 + c2 + Car(\"BMW\", 10)\n"
      ],
      "metadata": {
        "colab": {
          "base_uri": "https://localhost:8080/",
          "height": 179
        },
        "id": "0P96W9ymW9YN",
        "outputId": "95a1ea70-f544-43fe-c39f-9ab47c0756e6"
      },
      "execution_count": null,
      "outputs": [
        {
          "output_type": "error",
          "ename": "TypeError",
          "evalue": "unsupported operand type(s) for +: 'int' and 'Car'",
          "traceback": [
            "\u001b[0;31m---------------------------------------------------------------------------\u001b[0m",
            "\u001b[0;31mTypeError\u001b[0m                                 Traceback (most recent call last)",
            "\u001b[0;32m<ipython-input-9-cf16f0fc6f84>\u001b[0m in \u001b[0;36m<cell line: 1>\u001b[0;34m()\u001b[0m\n\u001b[0;32m----> 1\u001b[0;31m \u001b[0mc1\u001b[0m \u001b[0;34m+\u001b[0m \u001b[0mc2\u001b[0m \u001b[0;34m+\u001b[0m \u001b[0mCar\u001b[0m\u001b[0;34m(\u001b[0m\u001b[0;34m\"BMW\"\u001b[0m\u001b[0;34m,\u001b[0m \u001b[0;36m10\u001b[0m\u001b[0;34m)\u001b[0m\u001b[0;34m\u001b[0m\u001b[0;34m\u001b[0m\u001b[0m\n\u001b[0m",
            "\u001b[0;31mTypeError\u001b[0m: unsupported operand type(s) for +: 'int' and 'Car'"
          ]
        }
      ]
    },
    {
      "cell_type": "code",
      "source": [
        "c1 < c2"
      ],
      "metadata": {
        "colab": {
          "base_uri": "https://localhost:8080/"
        },
        "id": "6FZOwaSmrWir",
        "outputId": "8f1f49d0-d689-4b06-f8a4-8e19eb929fd8"
      },
      "execution_count": null,
      "outputs": [
        {
          "output_type": "execute_result",
          "data": {
            "text/plain": [
              "True"
            ]
          },
          "metadata": {},
          "execution_count": 14
        }
      ]
    },
    {
      "cell_type": "code",
      "source": [
        "c1()"
      ],
      "metadata": {
        "colab": {
          "base_uri": "https://localhost:8080/"
        },
        "id": "_vgy5PolrYQE",
        "outputId": "5199a889-bd66-4b09-d10c-9b288fb3b76e"
      },
      "execution_count": null,
      "outputs": [
        {
          "output_type": "stream",
          "name": "stdout",
          "text": [
            "I WAS CALLED\n"
          ]
        }
      ]
    },
    {
      "cell_type": "markdown",
      "source": [
        "> Note:\n",
        "Function defined by users need to be called explicitly but dunder methods are called automatically by python itself"
      ],
      "metadata": {
        "id": "O1we7dQptLkq"
      }
    },
    {
      "cell_type": "markdown",
      "source": [
        "# <u>Inheritence</u>\n",
        "<img src=\"https://d2beiqkhq929f0.cloudfront.net/public_assets/assets/000/015/907/original/Screenshot_2022-10-07_at_10.04.40_AM.png?1665117262\">"
      ],
      "metadata": {
        "id": "JRka2Fl2t7MC"
      }
    },
    {
      "cell_type": "code",
      "source": [
        "class Parent:\n",
        "  def __init__(self):\n",
        "    print(\"parent class\")\n",
        "\n",
        "class child(Parent):\n",
        "  def __init__(self):\n",
        "    print(\"child class\")"
      ],
      "metadata": {
        "id": "oOkfTZ6o15sJ"
      },
      "execution_count": null,
      "outputs": []
    },
    {
      "cell_type": "code",
      "source": [
        "# Start class names with capital lettes or we use camel case\n",
        "class SchoolMember:\n",
        "    def __init__(self, name):\n",
        "        self.name = name\n",
        "\n",
        "class Student(SchoolMember): # inheriting parent class\n",
        "    def __init__(self, name, grade):\n",
        "        self.grade = grade\n",
        "\n",
        "class Staff(SchoolMember):\n",
        "    def __init__(self, name, salary):\n",
        "        self.salary = salary\n",
        "\n",
        "class Teacher(Staff):\n",
        "    def __init__(self, name, salary, subject):\n",
        "        self.subject = subject"
      ],
      "metadata": {
        "id": "GUP6Ud7XrbL0"
      },
      "execution_count": null,
      "outputs": []
    },
    {
      "cell_type": "markdown",
      "source": [
        "above example displays inheritence tree like this\n",
        "<img src=\"https://d2beiqkhq929f0.cloudfront.net/public_assets/assets/000/015/908/original/Screenshot_2022-10-07_at_10.05.56_AM.png?1665117338\">"
      ],
      "metadata": {
        "id": "k7J9fjRsusi9"
      }
    },
    {
      "cell_type": "code",
      "source": [
        "s1 = Student(\"Krishna\", \"A\")"
      ],
      "metadata": {
        "id": "j3Kt6618redd"
      },
      "execution_count": null,
      "outputs": []
    },
    {
      "cell_type": "code",
      "source": [
        "type(s1)"
      ],
      "metadata": {
        "colab": {
          "base_uri": "https://localhost:8080/"
        },
        "id": "wGGcZaGZrf-E",
        "outputId": "049cf059-92d4-4c54-d8fb-e7ba638293d5"
      },
      "execution_count": null,
      "outputs": [
        {
          "output_type": "execute_result",
          "data": {
            "text/plain": [
              "__main__.Student"
            ]
          },
          "metadata": {},
          "execution_count": 12
        }
      ]
    },
    {
      "cell_type": "code",
      "source": [
        "s1.grade"
      ],
      "metadata": {
        "colab": {
          "base_uri": "https://localhost:8080/",
          "height": 35
        },
        "id": "9_qq7lHprhmx",
        "outputId": "f56e379c-16a0-4896-8867-7eb2dd166dfe"
      },
      "execution_count": null,
      "outputs": [
        {
          "output_type": "execute_result",
          "data": {
            "text/plain": [
              "'A'"
            ],
            "application/vnd.google.colaboratory.intrinsic+json": {
              "type": "string"
            }
          },
          "metadata": {},
          "execution_count": 13
        }
      ]
    },
    {
      "cell_type": "code",
      "source": [
        "s1.name # class inherited still cannot use the properties"
      ],
      "metadata": {
        "colab": {
          "base_uri": "https://localhost:8080/",
          "height": 176
        },
        "id": "wHa-QQLorjH8",
        "outputId": "52b65067-c78d-4794-c1e9-5adb26074d31"
      },
      "execution_count": null,
      "outputs": [
        {
          "output_type": "error",
          "ename": "AttributeError",
          "evalue": "ignored",
          "traceback": [
            "\u001b[0;31m---------------------------------------------------------------------------\u001b[0m",
            "\u001b[0;31mAttributeError\u001b[0m                            Traceback (most recent call last)",
            "\u001b[0;32m<ipython-input-14-58cbae705711>\u001b[0m in \u001b[0;36m<cell line: 1>\u001b[0;34m()\u001b[0m\n\u001b[0;32m----> 1\u001b[0;31m \u001b[0ms1\u001b[0m\u001b[0;34m.\u001b[0m\u001b[0mname\u001b[0m \u001b[0;31m# class inherited still cannot use the properties\u001b[0m\u001b[0;34m\u001b[0m\u001b[0;34m\u001b[0m\u001b[0m\n\u001b[0m",
            "\u001b[0;31mAttributeError\u001b[0m: 'Student' object has no attribute 'name'"
          ]
        }
      ]
    },
    {
      "cell_type": "markdown",
      "source": [
        "> ### problem is we never called the `__init__()` function of the parent class inside the child.\n",
        "\n",
        "> ### we can use `super()` method to directly call the methods of parent class"
      ],
      "metadata": {
        "id": "aBzj5fp8vFa3"
      }
    },
    {
      "cell_type": "code",
      "source": [
        "# Start class names with capital lettes or we use camel case\n",
        "class SchoolMember:\n",
        "    def __init__(self, name):\n",
        "        self.name = name\n",
        "\n",
        "class Student(SchoolMember):\n",
        "    def __init__(self, name, grade):\n",
        "        # SchoolMember.__init__(self, name)\n",
        "        super().__init__(name)\n",
        "        # super automatically corresponds to the direct parent class\n",
        "        self.grade = grade\n",
        "\n",
        "class Staff(SchoolMember):\n",
        "    def __init__(self, name, salary):\n",
        "        super().__init__(name)\n",
        "        self.salary = salary\n",
        "\n",
        "class Teacher(Staff):\n",
        "    def __init__(self, name, salary, subject):\n",
        "        super().__init__(name, salary)\n",
        "        self.subject = subject"
      ],
      "metadata": {
        "id": "vUS4RE0Zsgd-"
      },
      "execution_count": null,
      "outputs": []
    },
    {
      "cell_type": "code",
      "source": [
        "s1 = Student(\"Sharath\", \"A\")"
      ],
      "metadata": {
        "id": "a4Yk0COLsiUZ"
      },
      "execution_count": null,
      "outputs": []
    },
    {
      "cell_type": "code",
      "source": [
        "print(s1.name)\n",
        "s1.name = \"Random\"\n",
        "print(s1.name)"
      ],
      "metadata": {
        "colab": {
          "base_uri": "https://localhost:8080/"
        },
        "id": "oIi53pzrskAj",
        "outputId": "ded8e375-22e0-425e-cebf-704d4cc4d977"
      },
      "execution_count": null,
      "outputs": [
        {
          "output_type": "stream",
          "name": "stdout",
          "text": [
            "Sharath\n",
            "Random\n"
          ]
        }
      ]
    },
    {
      "cell_type": "code",
      "source": [
        "t1 = Teacher(\"Bipin\", 10, \"Python\")"
      ],
      "metadata": {
        "id": "PU94G_5msyHb"
      },
      "execution_count": null,
      "outputs": []
    },
    {
      "cell_type": "code",
      "source": [],
      "metadata": {
        "id": "UjNxRyXnO4Uj"
      },
      "execution_count": null,
      "outputs": []
    },
    {
      "cell_type": "code",
      "source": [
        "t1.name, t1.salary, t1.subject"
      ],
      "metadata": {
        "colab": {
          "base_uri": "https://localhost:8080/"
        },
        "id": "bNgtygohsz-c",
        "outputId": "f1a55cda-a5ca-4d38-f228-278ceb4d0606"
      },
      "execution_count": null,
      "outputs": [
        {
          "output_type": "execute_result",
          "data": {
            "text/plain": [
              "('Bipin', 10, 'Python')"
            ]
          },
          "metadata": {},
          "execution_count": 19
        }
      ]
    },
    {
      "cell_type": "code",
      "source": [
        "class BankAccount:\n",
        "    def __init__(self, balance):\n",
        "        self.balance = balance\n",
        "\n",
        "    def withdrawl(self, amount):\n",
        "        self.balance -= amount\n",
        "\n",
        "    def deposit(self, amount):\n",
        "        self.balance += amount"
      ],
      "metadata": {
        "id": "ru_j49B5s7JB"
      },
      "execution_count": null,
      "outputs": []
    },
    {
      "cell_type": "code",
      "source": [
        "b1 = BankAccount(10000)"
      ],
      "metadata": {
        "id": "NxW-WShEs81o"
      },
      "execution_count": null,
      "outputs": []
    },
    {
      "cell_type": "code",
      "source": [
        "b1.deposit(5000)"
      ],
      "metadata": {
        "id": "QLaHIkCVs-UJ"
      },
      "execution_count": null,
      "outputs": []
    },
    {
      "cell_type": "code",
      "source": [
        "b1.balance"
      ],
      "metadata": {
        "colab": {
          "base_uri": "https://localhost:8080/"
        },
        "id": "fo1oSt8Ys_6i",
        "outputId": "5c1338af-7054-4374-c1b8-9928960609d0"
      },
      "execution_count": null,
      "outputs": [
        {
          "output_type": "execute_result",
          "data": {
            "text/plain": [
              "15000"
            ]
          },
          "metadata": {},
          "execution_count": 23
        }
      ]
    },
    {
      "cell_type": "code",
      "source": [
        "b1.withdrawl(15000)\n",
        "b1.balance"
      ],
      "metadata": {
        "colab": {
          "base_uri": "https://localhost:8080/"
        },
        "id": "8AAbexG-tB0p",
        "outputId": "0665b16f-4a9b-40bf-c72b-bb09f22f66ee"
      },
      "execution_count": null,
      "outputs": [
        {
          "output_type": "execute_result",
          "data": {
            "text/plain": [
              "0"
            ]
          },
          "metadata": {},
          "execution_count": 24
        }
      ]
    },
    {
      "cell_type": "code",
      "source": [
        "b1.balance = 23456789854323456789987654345678909876543\n",
        "b1.balance"
      ],
      "metadata": {
        "colab": {
          "base_uri": "https://localhost:8080/"
        },
        "id": "cukLBbo0tD6Q",
        "outputId": "e8f9f961-4971-45b7-9dcd-37703d613a7d"
      },
      "execution_count": null,
      "outputs": [
        {
          "output_type": "execute_result",
          "data": {
            "text/plain": [
              "23456789854323456789987654345678909876543"
            ]
          },
          "metadata": {},
          "execution_count": 25
        }
      ]
    },
    {
      "cell_type": "markdown",
      "source": [
        "## Private Properties\n",
        "- will be accessible within the class\n",
        "- will not be accessible outside the class definition"
      ],
      "metadata": {
        "id": "J_U74QjLtmBE"
      }
    },
    {
      "cell_type": "code",
      "source": [
        "class BankAccount:\n",
        "    def __init__(self, balance):\n",
        "        self.__balance = balance\n",
        "\n",
        "    # Setter\n",
        "    def withdraw(self, amount):\n",
        "        self.__balance -= amount\n",
        "\n",
        "    def deposit(self, amount):\n",
        "        self.__balance += amount\n",
        "\n",
        "    # Getter\n",
        "    def check_balance(self):\n",
        "        return self.__balance"
      ],
      "metadata": {
        "id": "O9m3QMUhtrH5"
      },
      "execution_count": null,
      "outputs": []
    },
    {
      "cell_type": "code",
      "source": [
        "b1 = BankAccount(10000)"
      ],
      "metadata": {
        "id": "wJ7jEn-vtsrp"
      },
      "execution_count": null,
      "outputs": []
    },
    {
      "cell_type": "code",
      "source": [
        "b1.__balance"
      ],
      "metadata": {
        "colab": {
          "base_uri": "https://localhost:8080/",
          "height": 169
        },
        "id": "Ybdc0HSYtxQm",
        "outputId": "1d036a7f-d65d-4d64-fbb4-03e4c4f03231"
      },
      "execution_count": null,
      "outputs": [
        {
          "output_type": "error",
          "ename": "AttributeError",
          "evalue": "ignored",
          "traceback": [
            "\u001b[0;31m---------------------------------------------------------------------------\u001b[0m",
            "\u001b[0;31mAttributeError\u001b[0m                            Traceback (most recent call last)",
            "\u001b[0;32m<ipython-input-54-08368b8eecc5>\u001b[0m in \u001b[0;36m<module>\u001b[0;34m\u001b[0m\n\u001b[0;32m----> 1\u001b[0;31m \u001b[0mb1\u001b[0m\u001b[0;34m.\u001b[0m\u001b[0m__balance\u001b[0m\u001b[0;34m\u001b[0m\u001b[0;34m\u001b[0m\u001b[0m\n\u001b[0m",
            "\u001b[0;31mAttributeError\u001b[0m: 'BankAccount' object has no attribute '__balance'"
          ]
        }
      ]
    },
    {
      "cell_type": "code",
      "source": [
        "b1.deposit(10000)"
      ],
      "metadata": {
        "id": "yFov8yLCwwWb"
      },
      "execution_count": null,
      "outputs": []
    },
    {
      "cell_type": "code",
      "source": [
        "b1.withdraw(5000)"
      ],
      "metadata": {
        "id": "OGta1TZuwu1B"
      },
      "execution_count": null,
      "outputs": []
    },
    {
      "cell_type": "code",
      "source": [
        "b1.check_balance()"
      ],
      "metadata": {
        "colab": {
          "base_uri": "https://localhost:8080/"
        },
        "id": "mOFQvN1Jwx-U",
        "outputId": "6c025119-4829-461a-8b7e-c062ada8525b"
      },
      "execution_count": null,
      "outputs": [
        {
          "output_type": "execute_result",
          "data": {
            "text/plain": [
              "15000"
            ]
          },
          "metadata": {},
          "execution_count": 57
        }
      ]
    },
    {
      "cell_type": "markdown",
      "source": [
        "> ### Note: Nothing can be completely *private* in python.\n",
        "\n",
        "- When create variables like `__private_var`\n",
        "- Python internally creates it with name of `_ClassName__private_var`\n",
        "- hence we can still access it with the above name\n",
        "\n",
        "<img src=\"https://d2beiqkhq929f0.cloudfront.net/public_assets/assets/000/015/909/original/Screenshot_2022-10-07_at_10.18.54_AM.png?1665118116\">\n"
      ],
      "metadata": {
        "id": "PEq8n9XxxI2b"
      }
    },
    {
      "cell_type": "code",
      "source": [
        "b1._BankAccount__balance = 159854568765456789876545678765678\n",
        "# Name Mangling"
      ],
      "metadata": {
        "id": "FrTx0lJYxfhu"
      },
      "execution_count": null,
      "outputs": []
    },
    {
      "cell_type": "code",
      "source": [
        "b1.check_balance()"
      ],
      "metadata": {
        "colab": {
          "base_uri": "https://localhost:8080/"
        },
        "id": "SjiYDEFrxhcH",
        "outputId": "5f77c3b7-8286-4bd2-be3a-0f3943616ea5"
      },
      "execution_count": null,
      "outputs": [
        {
          "output_type": "execute_result",
          "data": {
            "text/plain": [
              "159854568765456789876545678765678"
            ]
          },
          "metadata": {},
          "execution_count": 60
        }
      ]
    },
    {
      "cell_type": "code",
      "source": [
        "dir(b1)"
      ],
      "metadata": {
        "colab": {
          "base_uri": "https://localhost:8080/"
        },
        "id": "Wufv9u_9xi9y",
        "outputId": "2e004b35-bb10-45bc-b7ef-a6080a0190bc"
      },
      "execution_count": null,
      "outputs": [
        {
          "output_type": "execute_result",
          "data": {
            "text/plain": [
              "['_BankAccount__balance',\n",
              " '__class__',\n",
              " '__delattr__',\n",
              " '__dict__',\n",
              " '__dir__',\n",
              " '__doc__',\n",
              " '__eq__',\n",
              " '__format__',\n",
              " '__ge__',\n",
              " '__getattribute__',\n",
              " '__gt__',\n",
              " '__hash__',\n",
              " '__init__',\n",
              " '__init_subclass__',\n",
              " '__le__',\n",
              " '__lt__',\n",
              " '__module__',\n",
              " '__ne__',\n",
              " '__new__',\n",
              " '__reduce__',\n",
              " '__reduce_ex__',\n",
              " '__repr__',\n",
              " '__setattr__',\n",
              " '__sizeof__',\n",
              " '__str__',\n",
              " '__subclasshook__',\n",
              " '__weakref__',\n",
              " 'check_balance',\n",
              " 'deposit',\n",
              " 'withdraw']"
            ]
          },
          "metadata": {},
          "execution_count": 61
        }
      ]
    },
    {
      "cell_type": "code",
      "source": [
        "b1.__balance = \"random balance\""
      ],
      "metadata": {
        "id": "qrQuYQtQx1k8"
      },
      "execution_count": null,
      "outputs": []
    },
    {
      "cell_type": "code",
      "source": [
        "dir(b1)"
      ],
      "metadata": {
        "colab": {
          "base_uri": "https://localhost:8080/"
        },
        "id": "hjzyqapHx2yh",
        "outputId": "2dbb51ac-ce6a-48da-a35a-3595dac24e6b"
      },
      "execution_count": null,
      "outputs": [
        {
          "output_type": "execute_result",
          "data": {
            "text/plain": [
              "['_BankAccount__balance',\n",
              " '__balance',\n",
              " '__class__',\n",
              " '__delattr__',\n",
              " '__dict__',\n",
              " '__dir__',\n",
              " '__doc__',\n",
              " '__eq__',\n",
              " '__format__',\n",
              " '__ge__',\n",
              " '__getattribute__',\n",
              " '__gt__',\n",
              " '__hash__',\n",
              " '__init__',\n",
              " '__init_subclass__',\n",
              " '__le__',\n",
              " '__lt__',\n",
              " '__module__',\n",
              " '__ne__',\n",
              " '__new__',\n",
              " '__reduce__',\n",
              " '__reduce_ex__',\n",
              " '__repr__',\n",
              " '__setattr__',\n",
              " '__sizeof__',\n",
              " '__str__',\n",
              " '__subclasshook__',\n",
              " '__weakref__',\n",
              " 'check_balance',\n",
              " 'deposit',\n",
              " 'withdraw']"
            ]
          },
          "metadata": {},
          "execution_count": 63
        }
      ]
    },
    {
      "cell_type": "markdown",
      "source": [
        "# <u>Multiple Inheritence</u>"
      ],
      "metadata": {
        "id": "IiOXmVypy2SH"
      }
    },
    {
      "cell_type": "code",
      "source": [
        "class A:\n",
        "    def __init__(self, a):\n",
        "        self.a = a\n",
        "\n",
        "class B:\n",
        "    def __init__(self, b):\n",
        "        self.b = b\n",
        "\n",
        "# C inherits from both A and B\n",
        "class C(A, B):\n",
        "    def __init__(self, a, b, c):\n",
        "        # Assumption 1\n",
        "        # super().__init__(a, b)\n",
        "\n",
        "        # Assumption 2\n",
        "        # super().__init__(a)\n",
        "        # super().__init__(b)\n",
        "\n",
        "        # Assumption 3\n",
        "        A.__init__(self, a)\n",
        "        B.__init__(self, b)\n",
        "        self.c = c"
      ],
      "metadata": {
        "id": "_04il3YSy57u"
      },
      "execution_count": null,
      "outputs": []
    },
    {
      "cell_type": "code",
      "source": [
        "c1 = C(1,2,3)"
      ],
      "metadata": {
        "id": "zGpp5ERIy_0j"
      },
      "execution_count": null,
      "outputs": []
    },
    {
      "cell_type": "code",
      "source": [
        "c1.c"
      ],
      "metadata": {
        "colab": {
          "base_uri": "https://localhost:8080/"
        },
        "id": "W8Dc74YGzBQv",
        "outputId": "f953b725-69f0-43b4-95a5-31e662b9b563"
      },
      "execution_count": null,
      "outputs": [
        {
          "output_type": "execute_result",
          "data": {
            "text/plain": [
              "3"
            ]
          },
          "metadata": {},
          "execution_count": 67
        }
      ]
    },
    {
      "cell_type": "markdown",
      "source": [
        "# <u>Method Resolution Order</u>\n",
        "\n",
        "<img src=\"https://d2beiqkhq929f0.cloudfront.net/public_assets/assets/000/015/910/original/Screenshot_2022-10-07_at_10.31.02_AM.png?1665118892\">"
      ],
      "metadata": {
        "id": "zbmRTPnVzJlk"
      }
    },
    {
      "cell_type": "code",
      "source": [
        "class A:\n",
        "    x = 10\n",
        "\n",
        "class B(A):\n",
        "    pass\n",
        "\n",
        "class C(B):\n",
        "    pass\n",
        "\n",
        "class D(A):\n",
        "    x = 5\n",
        "\n",
        "class E(C, D):\n",
        "    pass\n",
        "\n",
        "# E -> C -> B -> D -> A"
      ],
      "metadata": {
        "id": "rvluo1ovzLPj"
      },
      "execution_count": null,
      "outputs": []
    },
    {
      "cell_type": "code",
      "source": [
        "e1 = E()\n",
        "e1.x"
      ],
      "metadata": {
        "colab": {
          "base_uri": "https://localhost:8080/"
        },
        "id": "5HG6CtryzMo4",
        "outputId": "fa8a5375-8665-4aa1-c369-1a8fc03abfec"
      },
      "execution_count": null,
      "outputs": [
        {
          "output_type": "execute_result",
          "data": {
            "text/plain": [
              "5"
            ]
          },
          "metadata": {},
          "execution_count": 2
        }
      ]
    },
    {
      "cell_type": "code",
      "source": [
        "# it'll give the method resolution order\n",
        "E.__mro__"
      ],
      "metadata": {
        "colab": {
          "base_uri": "https://localhost:8080/"
        },
        "id": "43X647wQzPDT",
        "outputId": "2e02acdc-deba-4baa-9483-4b4b2a50d775"
      },
      "execution_count": null,
      "outputs": [
        {
          "output_type": "execute_result",
          "data": {
            "text/plain": [
              "(__main__.E, __main__.C, __main__.B, __main__.D, __main__.A, object)"
            ]
          },
          "metadata": {},
          "execution_count": 86
        }
      ]
    },
    {
      "cell_type": "code",
      "source": [
        "class A:\n",
        "    x = []\n",
        "\n",
        "    def __init__(self):\n",
        "        self.x.append(0)\n",
        "\n",
        "A()\n",
        "\n",
        "obj = A()\n",
        "\n",
        "if A():\n",
        "    print(A())"
      ],
      "metadata": {
        "colab": {
          "base_uri": "https://localhost:8080/"
        },
        "id": "GJipIElTzQpY",
        "outputId": "a25a1bbd-6e84-47a5-a2f3-40783808f431"
      },
      "execution_count": null,
      "outputs": [
        {
          "output_type": "stream",
          "name": "stdout",
          "text": [
            "<__main__.A object at 0x7f1b83236c50>\n"
          ]
        }
      ]
    },
    {
      "cell_type": "code",
      "execution_count": null,
      "metadata": {
        "id": "gf-atsVIoGvG"
      },
      "outputs": [],
      "source": []
    }
  ]
}